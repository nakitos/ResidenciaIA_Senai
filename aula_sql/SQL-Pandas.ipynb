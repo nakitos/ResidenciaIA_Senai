{
 "cells": [
  {
   "cell_type": "markdown",
   "metadata": {},
   "source": [
    "sqlite3 survey.db"
   ]
  },
  {
   "cell_type": "code",
   "execution_count": 7,
   "metadata": {},
   "outputs": [
    {
     "ename": "OperationalError",
     "evalue": "unable to open database file",
     "output_type": "error",
     "traceback": [
      "\u001b[0;31m---------------------------------------------------------------------------\u001b[0m",
      "\u001b[0;31mOperationalError\u001b[0m                          Traceback (most recent call last)",
      "\u001b[0;32m<ipython-input-7-b863ba2bc655>\u001b[0m in \u001b[0;36m<module>\u001b[0;34m\u001b[0m\n\u001b[1;32m      2\u001b[0m \u001b[0;32mimport\u001b[0m \u001b[0mpandas\u001b[0m \u001b[0;32mas\u001b[0m \u001b[0mpd\u001b[0m\u001b[0;34m\u001b[0m\u001b[0;34m\u001b[0m\u001b[0m\n\u001b[1;32m      3\u001b[0m \u001b[0;34m\u001b[0m\u001b[0m\n\u001b[0;32m----> 4\u001b[0;31m \u001b[0mconexao\u001b[0m \u001b[0;34m=\u001b[0m \u001b[0msqlite3\u001b[0m\u001b[0;34m.\u001b[0m\u001b[0mconnect\u001b[0m\u001b[0;34m(\u001b[0m\u001b[0;34m'/home/fernando/github/python-datascience/survey.db'\u001b[0m\u001b[0;34m)\u001b[0m\u001b[0;34m\u001b[0m\u001b[0;34m\u001b[0m\u001b[0m\n\u001b[0m",
      "\u001b[0;31mOperationalError\u001b[0m: unable to open database file"
     ]
    }
   ],
   "source": [
    "import sqlite3\n",
    "import pandas as pd\n",
    "\n",
    "conexao = sqlite3.connect('/home/fernando/github/python-datascience/survey.db')\n"
   ]
  },
  {
   "cell_type": "code",
   "execution_count": 77,
   "metadata": {},
   "outputs": [
    {
     "name": "stdout",
     "output_type": "stream",
     "text": [
      "<class 'pandas.core.frame.DataFrame'>\n",
      "RangeIndex: 21 entries, 0 to 20\n",
      "Data columns (total 4 columns):\n",
      " #   Column   Non-Null Count  Dtype  \n",
      "---  ------   --------------  -----  \n",
      " 0   taken    21 non-null     int64  \n",
      " 1   person   19 non-null     object \n",
      " 2   quant    21 non-null     object \n",
      " 3   reading  21 non-null     float64\n",
      "dtypes: float64(1), int64(1), object(2)\n",
      "memory usage: 800.0+ bytes\n",
      "    taken person quant  reading\n",
      "0     619   dyer   rad     9.82\n",
      "1     619   dyer   sal     0.13\n",
      "2     622   dyer   rad     7.80\n",
      "3     622   dyer   sal     0.09\n",
      "4     734     pb   rad     8.41\n",
      "5     734   lake   sal     0.05\n",
      "6     734     pb  temp   -21.50\n",
      "7     735     pb   rad     7.22\n",
      "8     735   None   sal     0.06\n",
      "9     735   None  temp   -26.00\n",
      "10    751     pb   rad     4.35\n",
      "11    751     pb  temp   -18.50\n",
      "12    751   lake   sal     0.10\n",
      "13    752   lake   rad     2.19\n",
      "14    752   lake   sal     0.09\n",
      "15    752   lake  temp   -16.00\n",
      "16    752    roe   sal    41.60\n",
      "17    837   lake   rad     1.46\n",
      "18    837   lake   sal     0.21\n",
      "19    837    roe   sal    22.50\n",
      "20    844    roe   rad    11.25\n"
     ]
    }
   ],
   "source": [
    "survey = pd.read_sql_query(\"SELECT * FROM Survey\", conexao)\n",
    "survey.info()\n",
    "survey.describe()\n",
    "print(survey)"
   ]
  },
  {
   "cell_type": "code",
   "execution_count": 78,
   "metadata": {},
   "outputs": [
    {
     "name": "stdout",
     "output_type": "stream",
     "text": [
      "<class 'pandas.core.frame.DataFrame'>\n",
      "RangeIndex: 5 entries, 0 to 4\n",
      "Data columns (total 3 columns):\n",
      " #   Column    Non-Null Count  Dtype \n",
      "---  ------    --------------  ----- \n",
      " 0   id        5 non-null      object\n",
      " 1   personal  5 non-null      object\n",
      " 2   family    5 non-null      object\n",
      "dtypes: object(3)\n",
      "memory usage: 248.0+ bytes\n",
      "         id   personal    family\n",
      "0      dyer    William      Dyer\n",
      "1        pb      Frank   Pabodie\n",
      "2      lake   Anderson      Lake\n",
      "3       roe  Valentina   Roerich\n",
      "4  danforth      Frank  Danforth\n"
     ]
    }
   ],
   "source": [
    "pessoa = pd.read_sql_query(\"SELECT * FROM person\", conexao)\n",
    "pessoa.info()\n",
    "pessoa.describe()\n",
    "print(pessoa)"
   ]
  },
  {
   "cell_type": "code",
   "execution_count": 79,
   "metadata": {},
   "outputs": [
    {
     "name": "stdout",
     "output_type": "stream",
     "text": [
      "             lat        long\n",
      "count   3.000000    3.000000\n",
      "mean  -48.623333 -126.230000\n",
      "std     1.366797    2.619599\n",
      "min   -49.850000 -128.570000\n",
      "25%   -49.360000 -127.645000\n",
      "50%   -48.870000 -126.720000\n",
      "75%   -48.010000 -125.060000\n",
      "max   -47.150000 -123.400000\n",
      "    name    lat    long\n",
      "0   DR-1 -49.85 -128.57\n",
      "1   DR-3 -47.15 -126.72\n",
      "2  MSK-4 -48.87 -123.40\n"
     ]
    }
   ],
   "source": [
    "\n",
    "\n",
    "dfsite = pd.read_sql_query(\"SELECT * FROM Site\", conexao)\n",
    "print(dfsite.describe())\n",
    "print(dfsite)\n",
    "\n"
   ]
  },
  {
   "cell_type": "code",
   "execution_count": 80,
   "metadata": {},
   "outputs": [
    {
     "name": "stdout",
     "output_type": "stream",
     "text": [
      "   max(id)\n",
      "0      844\n",
      "844\n"
     ]
    }
   ],
   "source": [
    "dfvisited=pd.read_sql_query(\"SELECT max(id) FROM Visited;\", conexao)\n",
    "print(dfvisited)\n",
    "\n",
    "dfvisited=pd.read_sql_query(\"SELECT * FROM Visited;\", conexao)\n",
    "print(dfvisited['id'].max())\n"
   ]
  },
  {
   "cell_type": "code",
   "execution_count": 81,
   "metadata": {},
   "outputs": [
    {
     "name": "stdout",
     "output_type": "stream",
     "text": [
      "     family   personal\n",
      "0      Dyer    William\n",
      "1   Pabodie      Frank\n",
      "2      Lake   Anderson\n",
      "3   Roerich  Valentina\n",
      "4  Danforth      Frank\n",
      "    taken person quant  reading\n",
      "0     619   dyer   rad     9.82\n",
      "1     619   dyer   sal     0.13\n",
      "2     622   dyer   rad     7.80\n",
      "3     622   dyer   sal     0.09\n",
      "4     734     pb   rad     8.41\n",
      "5     734   lake   sal     0.05\n",
      "6     734     pb  temp   -21.50\n",
      "7     735     pb   rad     7.22\n",
      "8     735   None   sal     0.06\n",
      "9     735   None  temp   -26.00\n",
      "10    751     pb   rad     4.35\n",
      "11    751     pb  temp   -18.50\n",
      "12    751   lake   sal     0.10\n",
      "13    752   lake   rad     2.19\n",
      "14    752   lake   sal     0.09\n",
      "15    752   lake  temp   -16.00\n",
      "16    752    roe   sal    41.60\n",
      "17    837   lake   rad     1.46\n",
      "18    837   lake   sal     0.21\n",
      "19    837    roe   sal    22.50\n",
      "20    844    roe   rad    11.25\n",
      "0        Dyer\n",
      "1     Pabodie\n",
      "2        Lake\n",
      "3     Roerich\n",
      "4    Danforth\n",
      "Name: family, dtype: object\n"
     ]
    }
   ],
   "source": [
    "# Selecionando colunas\n",
    "\n",
    "dfPerson = pd.read_sql_query(\"SELECT family, personal FROM Person;\", conexao)\n",
    "print(dfPerson)\n",
    "dfSurvey = pd.read_sql_query(\"SELECT * FROM Survey;\", conexao)\n",
    "print(dfSurvey)\n",
    "print(dfPerson['family'])"
   ]
  },
  {
   "cell_type": "code",
   "execution_count": 82,
   "metadata": {},
   "outputs": [
    {
     "name": "stdout",
     "output_type": "stream",
     "text": [
      "   quant\n",
      "0    rad\n",
      "1    sal\n",
      "2    rad\n",
      "3    sal\n",
      "4    rad\n",
      "5    sal\n",
      "6   temp\n",
      "7    rad\n",
      "8    sal\n",
      "9   temp\n",
      "10   rad\n",
      "11  temp\n",
      "12   sal\n",
      "13   rad\n",
      "14   sal\n",
      "15  temp\n",
      "16   sal\n",
      "17   rad\n",
      "18   sal\n",
      "19   sal\n",
      "20   rad\n"
     ]
    }
   ],
   "source": [
    "dfSurvey = pd.read_sql_query(\"SELECT quant FROM Survey\", conexao)\n",
    "print(dfSurvey)"
   ]
  },
  {
   "cell_type": "code",
   "execution_count": 83,
   "metadata": {},
   "outputs": [
    {
     "name": "stdout",
     "output_type": "stream",
     "text": [
      "  quant\n",
      "0   rad\n",
      "1   sal\n",
      "2  temp\n",
      "0      rad\n",
      "1      sal\n",
      "2      rad\n",
      "3      sal\n",
      "4      rad\n",
      "5      sal\n",
      "6     temp\n",
      "7      rad\n",
      "8      sal\n",
      "9     temp\n",
      "10     rad\n",
      "11    temp\n",
      "12     sal\n",
      "13     rad\n",
      "14     sal\n",
      "15    temp\n",
      "16     sal\n",
      "17     rad\n",
      "18     sal\n",
      "19     sal\n",
      "20     rad\n",
      "Name: quant, dtype: object\n",
      "['rad' 'sal' 'temp']\n"
     ]
    }
   ],
   "source": [
    "#distinct - opção para remover registros com valores repetidos de uma coluna específica\n",
    "dfSurvey = pd.read_sql_query(\"SELECT DISTINCT quant FROM Survey;\", conexao)\n",
    "print(dfSurvey)\n",
    "\n",
    "dfSurvey = pd.read_sql_query(\"SELECT * FROM Survey;\", conexao)\n",
    "print(dfSurvey['quant'])\n",
    "print(dfSurvey['quant'].unique())"
   ]
  },
  {
   "cell_type": "code",
   "execution_count": 84,
   "metadata": {},
   "outputs": [
    {
     "name": "stdout",
     "output_type": "stream",
     "text": [
      "    taken quant\n",
      "0     619   rad\n",
      "1     619   sal\n",
      "2     622   rad\n",
      "3     622   sal\n",
      "4     734   rad\n",
      "5     734   sal\n",
      "6     734  temp\n",
      "7     735   rad\n",
      "8     735   sal\n",
      "9     735  temp\n",
      "10    751   rad\n",
      "11    751  temp\n",
      "12    751   sal\n",
      "13    752   rad\n",
      "14    752   sal\n",
      "15    752  temp\n",
      "16    837   rad\n",
      "17    837   sal\n",
      "18    844   rad\n"
     ]
    }
   ],
   "source": [
    "dfSurvey = pd.read_sql_query(\"SELECT DISTINCT taken, quant FROM Survey;\", conexao)\n",
    "print(dfSurvey)"
   ]
  },
  {
   "cell_type": "code",
   "execution_count": 85,
   "metadata": {},
   "outputs": [
    {
     "name": "stdout",
     "output_type": "stream",
     "text": [
      "         id   personal    family\n",
      "0  danforth      Frank  Danforth\n",
      "1      dyer    William      Dyer\n",
      "2      lake   Anderson      Lake\n",
      "3        pb      Frank   Pabodie\n",
      "4       roe  Valentina   Roerich\n"
     ]
    }
   ],
   "source": [
    "#ordenando\n",
    "dfPerson = pd.read_sql_query(\"SELECT * FROM person ORDER BY id  ASC;\", conexao)\n",
    "print(dfPerson)"
   ]
  },
  {
   "cell_type": "code",
   "execution_count": 86,
   "metadata": {},
   "outputs": [
    {
     "name": "stdout",
     "output_type": "stream",
     "text": [
      "         id   personal    family\n",
      "0      dyer    William      Dyer\n",
      "1        pb      Frank   Pabodie\n",
      "2      lake   Anderson      Lake\n",
      "3       roe  Valentina   Roerich\n",
      "4  danforth      Frank  Danforth\n",
      "         id   personal    family\n",
      "4  danforth      Frank  Danforth\n",
      "0      dyer    William      Dyer\n",
      "2      lake   Anderson      Lake\n",
      "1        pb      Frank   Pabodie\n",
      "3       roe  Valentina   Roerich\n"
     ]
    }
   ],
   "source": [
    "#ordenando com Pandas\n",
    "dfPerson = pd.read_sql_query(\"SELECT * FROM person\", conexao)\n",
    "print(dfPerson)\n",
    "print(dfPerson.sort_values(by=['id']))"
   ]
  },
  {
   "cell_type": "code",
   "execution_count": 87,
   "metadata": {},
   "outputs": [
    {
     "name": "stdout",
     "output_type": "stream",
     "text": [
      "    id   site       dated\n",
      "0  619   DR-1  1927-02-08\n",
      "1  622   DR-1  1927-02-10\n",
      "2  734   DR-3  1930-01-07\n",
      "3  735   DR-3  1930-01-12\n",
      "4  751   DR-3  1930-02-26\n",
      "5  752   DR-3        None\n",
      "6  837  MSK-4  1932-01-14\n",
      "7  844   DR-1  1932-03-22\n",
      "    id  site       dated\n",
      "0  619  DR-1  1927-02-08\n",
      "1  622  DR-1  1927-02-10\n",
      "2  844  DR-1  1932-03-22\n",
      "    id  site       dated\n",
      "0  619  DR-1  1927-02-08\n",
      "1  622  DR-1  1927-02-10\n",
      "   taken person quant  reading\n",
      "0    734   lake   sal     0.05\n",
      "1    751   lake   sal     0.10\n",
      "2    752   lake   rad     2.19\n",
      "3    752   lake   sal     0.09\n",
      "4    752   lake  temp   -16.00\n",
      "5    752    roe   sal    41.60\n",
      "6    837   lake   rad     1.46\n",
      "7    837   lake   sal     0.21\n",
      "8    837    roe   sal    22.50\n",
      "9    844    roe   rad    11.25\n",
      "<class 'pandas.core.frame.DataFrame'>\n",
      "RangeIndex: 2 entries, 0 to 1\n",
      "Data columns (total 3 columns):\n",
      " #   Column  Non-Null Count  Dtype \n",
      "---  ------  --------------  ----- \n",
      " 0   id      2 non-null      int64 \n",
      " 1   site    2 non-null      object\n",
      " 2   dated   2 non-null      object\n",
      "dtypes: int64(1), object(2)\n",
      "memory usage: 176.0+ bytes\n",
      "None\n"
     ]
    }
   ],
   "source": [
    "#Filtro por linhas\n",
    "dfSite = pd.read_sql_query(\"SELECT * FROM Visited\", conexao)\n",
    "print(dfSite)\n",
    "\n",
    "dfSite = pd.read_sql_query(\"SELECT * FROM Visited WHERE site = 'DR-1';\", conexao)\n",
    "print(dfSite)\n",
    "\n",
    "dfSite = pd.read_sql_query(\"SELECT * FROM Visited WHERE site = 'DR-1' AND dated < '1930-01-01';\", conexao)\n",
    "print(dfSite)\n",
    "\n",
    "dfSurvey= pd.read_sql_query(\"SELECT * FROM Survey WHERE person IN ('lake', 'roe');\", conexao)\n",
    "print(dfSurvey)\n",
    "print(dfSite.info())"
   ]
  },
  {
   "cell_type": "code",
   "execution_count": 88,
   "metadata": {},
   "outputs": [
    {
     "name": "stdout",
     "output_type": "stream",
     "text": [
      "    id  site       dated\n",
      "0  619  DR-1  1927-02-08\n",
      "1  622  DR-1  1927-02-10\n",
      "7  844  DR-1  1932-03-22\n",
      "    id  site       dated\n",
      "0  619  DR-1  1927-02-08\n",
      "1  622  DR-1  1927-02-10\n"
     ]
    }
   ],
   "source": [
    "#faz a mesma coisa que o anterior, mas pelo pandas\n",
    "dfSite = pd.read_sql_query(\"SELECT * FROM Visited\", conexao)\n",
    "dfs2 = dfSite[dfSite['site'] == 'DR-1']\n",
    "\n",
    "print(dfs2)\n",
    "\n",
    "print(dfs2.iloc[0:-1])\n",
    "#site = 'DR-1'\n",
    "#print(dfSite)\n"
   ]
  },
  {
   "cell_type": "code",
   "execution_count": 89,
   "metadata": {},
   "outputs": [
    {
     "name": "stdout",
     "output_type": "stream",
     "text": [
      "    id  site       dated\n",
      "7  844  DR-1  1932-03-22\n"
     ]
    }
   ],
   "source": [
    "dfSite = pd.read_sql_query(\"SELECT * FROM Visited;\",conexao)\n",
    "#dfs2 = ((dfSite['site'] == 'DR-1') & (dfSite['dated'] <= '1932-03-22'))\n",
    "dfs3 = dfSite[ (dfSite['site'] == 'DR-1') ]\n",
    "dfs4 = dfs3[( dfs3['dated'] == '1932-03-22')]\n",
    "print(dfs4)\n",
    "#dated < '1930-01-01'"
   ]
  },
  {
   "cell_type": "markdown",
   "metadata": {},
   "source": [
    "               id\n",
    "count    9.000000\n",
    "mean   765.888889\n",
    "std    117.348247\n",
    "min    619.000000\n",
    "25%    734.000000\n",
    "50%    751.000000\n",
    "75%    837.000000\n",
    "max    999.000000\n",
    "    id   site       dated\n",
    "0  619   DR-1  1927-02-08\n",
    "1  622   DR-1  1927-02-10\n",
    "2  734   DR-3  1930-01-07\n",
    "3  735   DR-3  1930-01-12\n",
    "4  751   DR-3  1930-02-26\n",
    "5  752   DR-3        None\n",
    "6  837  MSK-4  1932-01-14\n",
    "7  844   DR-1  1932-03-22\n",
    "8  999   DDF3            \n",
    "<pandas.core.groupby.generic.DataFrameGroupBy object at 0x7f7e306b4710>\n",
    "site  DDF3  dated      id  site dated\n",
    "8  999  DDF3      \n",
    "site  DR-1  dated      id  site       dated\n",
    "0  619  DR-1  1927-02-08\n",
    "1  622  DR-1  1927-02-10\n",
    "7  844  DR-1  1932-03-22\n",
    "site  DR-3  dated      id  site       dated\n",
    "2  734  DR-3  1930-01-07\n",
    "3  735  DR-3  1930-01-12\n",
    "4  751  DR-3  1930-02-26\n",
    "5  752  DR-3        None\n",
    "site  MSK-4  dated      id   site       dated\n",
    "6  837  MSK-4  1932-01-14\n",
    "       id  dated\n",
    "site            \n",
    "DDF3    1      1\n",
    "DR-1    3      3\n",
    "DR-3    4      3\n",
    "MSK-4   1      1\n",
    "site  id\n",
    "site  dated\n",
    "            id  site\n",
    "dated               \n",
    "             1     1\n",
    "1927-02-08   1     1\n",
    "1927-02-10   1     1\n",
    "1930-01-07   1     1\n",
    "1930-01-12   1     1\n",
    "1930-02-26   1     1\n",
    "1932-01-14   1     1\n",
    "1932-03-22   1     1\n",
    "dated  id\n",
    "dated  site"
   ]
  },
  {
   "cell_type": "code",
   "execution_count": 90,
   "metadata": {},
   "outputs": [
    {
     "name": "stdout",
     "output_type": "stream",
     "text": [
      "    id  site       dated\n",
      "3  735  DR-3  1930-01-12\n",
      "4  751  DR-3  1930-02-26\n",
      "    id  site       dated\n",
      "3  735  DR-3  1930-01-12\n",
      "4  751  DR-3  1930-02-26\n"
     ]
    }
   ],
   "source": [
    "dfSite = pd.read_sql_query(\"SELECT * FROM Visited\", conexao)\n",
    "dfs5 = dfSite[dfSite['site'] == \"DR-3\"]\n",
    "dfs6 = dfs5[dfs5['dated'] >= '1930-01-10']\n",
    "dfs7 = dfSite[(dfSite['site'] == \"DR-3\") & (dfs5['dated'] >= '1930-01-10')]\n",
    "print(dfs6)\n",
    "print(dfs7)"
   ]
  },
  {
   "cell_type": "code",
   "execution_count": 97,
   "metadata": {},
   "outputs": [
    {
     "name": "stdout",
     "output_type": "stream",
     "text": [
      "    name    lat    long\n",
      "0   DR-1 -49.85 -128.57\n",
      "1   DR-3 -47.15 -126.72\n",
      "2  MSK-4 -48.87 -123.40\n",
      "    id   site       dated\n",
      "0  619   DR-1  1927-02-08\n",
      "1  622   DR-1  1927-02-10\n",
      "2  734   DR-3  1930-01-07\n",
      "3  735   DR-3  1930-01-12\n",
      "4  751   DR-3  1930-02-26\n",
      "5  752   DR-3        None\n",
      "6  837  MSK-4  1932-01-14\n",
      "7  844   DR-1  1932-03-22\n"
     ]
    }
   ],
   "source": [
    "dfSite = pd.read_sql_query(\"SELECT * FROM Site\", conexao)\n",
    "print(dfSite)\n",
    "dfvisited = pd.read_sql_query(\"SELECT * FROM Visited\", conexao)\n",
    "print(dfvisited)"
   ]
  },
  {
   "cell_type": "code",
   "execution_count": 92,
   "metadata": {},
   "outputs": [
    {
     "name": "stdout",
     "output_type": "stream",
     "text": [
      "    name    lat    long   id   site       dated\n",
      "0   DR-1 -49.85 -128.57  619   DR-1  1927-02-08\n",
      "1   DR-1 -49.85 -128.57  622   DR-1  1927-02-10\n",
      "2   DR-1 -49.85 -128.57  844   DR-1  1932-03-22\n",
      "3   DR-3 -47.15 -126.72  734   DR-3  1930-01-07\n",
      "4   DR-3 -47.15 -126.72  735   DR-3  1930-01-12\n",
      "5   DR-3 -47.15 -126.72  751   DR-3  1930-02-26\n",
      "6   DR-3 -47.15 -126.72  752   DR-3        None\n",
      "7  MSK-4 -48.87 -123.40  837  MSK-4  1932-01-14\n",
      "    name    lat    long   id   site       dated\n",
      "0   DR-1 -49.85 -128.57  619   DR-1  1927-02-08\n",
      "1   DR-1 -49.85 -128.57  622   DR-1  1927-02-10\n",
      "2   DR-1 -49.85 -128.57  844   DR-1  1932-03-22\n",
      "3   DR-3 -47.15 -126.72  734   DR-3  1930-01-07\n",
      "4   DR-3 -47.15 -126.72  735   DR-3  1930-01-12\n",
      "5   DR-3 -47.15 -126.72  751   DR-3  1930-02-26\n",
      "6   DR-3 -47.15 -126.72  752   DR-3        None\n",
      "7  MSK-4 -48.87 -123.40  837  MSK-4  1932-01-14\n",
      "    name    lat\n",
      "0   DR-1 -49.85\n",
      "1   DR-1 -49.85\n",
      "2   DR-1 -49.85\n",
      "3   DR-3 -47.15\n",
      "4   DR-3 -47.15\n",
      "5   DR-3 -47.15\n",
      "6   DR-3 -47.15\n",
      "7  MSK-4 -48.87\n"
     ]
    }
   ],
   "source": [
    "\n",
    "\n",
    "#Exemplos com merge\n",
    "dfVisitedSiteMerged = pd.read_sql_query(\"SELECT * FROM Site s INNER JOIN Visited v ON s.name = v.site\", conexao)\n",
    "print(dfVisitedSiteMerged)\n",
    "\n",
    "dfVisitedSiteMerged = pd.read_sql_query(\"SELECT * FROM Site s LEFT JOIN Visited v ON s.name = v.site\", conexao)\n",
    "print(dfVisitedSiteMerged)\n",
    "\n",
    "dfVisitedSiteMerged = pd.read_sql_query(\"SELECT s.name, s.lat FROM Site s INNER JOIN Visited v ON s.name = v.site\", conexao)\n",
    "print(dfVisitedSiteMerged)"
   ]
  },
  {
   "cell_type": "code",
   "execution_count": 93,
   "metadata": {},
   "outputs": [
    {
     "name": "stdout",
     "output_type": "stream",
     "text": [
      "    name    lat    long   id   site       dated\n",
      "0   DR-1 -49.85 -128.57  619   DR-1  1927-02-08\n",
      "1   DR-1 -49.85 -128.57  622   DR-1  1927-02-10\n",
      "2   DR-1 -49.85 -128.57  844   DR-1  1932-03-22\n",
      "3   DR-3 -47.15 -126.72  734   DR-3  1930-01-07\n",
      "4   DR-3 -47.15 -126.72  735   DR-3  1930-01-12\n",
      "5   DR-3 -47.15 -126.72  751   DR-3  1930-02-26\n",
      "6   DR-3 -47.15 -126.72  752   DR-3        None\n",
      "7  MSK-4 -48.87 -123.40  837  MSK-4  1932-01-14\n",
      "    name    lat    long   id       dated\n",
      "0   DR-1 -49.85 -128.57  619  1927-02-08\n",
      "1   DR-1 -49.85 -128.57  622  1927-02-10\n",
      "2   DR-1 -49.85 -128.57  844  1932-03-22\n",
      "3   DR-3 -47.15 -126.72  734  1930-01-07\n",
      "4   DR-3 -47.15 -126.72  735  1930-01-12\n",
      "5   DR-3 -47.15 -126.72  751  1930-02-26\n",
      "6   DR-3 -47.15 -126.72  752        None\n",
      "7  MSK-4 -48.87 -123.40  837  1932-01-14\n"
     ]
    }
   ],
   "source": [
    "#dfMerge = pd.merge(dfsite, dfvisited)\n",
    "#print(dfMerge)\n",
    "\n",
    "dfMerge = pd.merge(dfsite, dfvisited, left_on='name',right_on='site')\n",
    "print(dfMerge)\n",
    "\n",
    "dfMerge = pd.merge(dfsite, dfvisited, left_on='name',right_on='site').drop('site', axis=1)\n",
    "print(dfMerge)"
   ]
  },
  {
   "cell_type": "code",
   "execution_count": 98,
   "metadata": {},
   "outputs": [
    {
     "name": "stdout",
     "output_type": "stream",
     "text": [
      "    name    lat    long   id       dated\n",
      "0   DR-1 -49.85 -128.57  619  1927-02-08\n",
      "1   DR-1 -49.85 -128.57  622  1927-02-10\n",
      "2   DR-1 -49.85 -128.57  844  1932-03-22\n",
      "3   DR-3 -47.15 -126.72  734  1930-01-07\n",
      "4   DR-3 -47.15 -126.72  735  1930-01-12\n",
      "5   DR-3 -47.15 -126.72  751  1930-02-26\n",
      "6   DR-3 -47.15 -126.72  752        None\n",
      "7  MSK-4 -48.87 -123.40  837  1932-01-14\n",
      "    name    lat    long   id       dated\n",
      "0   DR-1 -49.85 -128.57  619  1927-02-08\n",
      "1   DR-1 -49.85 -128.57  622  1927-02-10\n",
      "2   DR-1 -49.85 -128.57  844  1932-03-22\n",
      "3   DR-3 -47.15 -126.72  734  1930-01-07\n",
      "4   DR-3 -47.15 -126.72  735  1930-01-12\n",
      "5   DR-3 -47.15 -126.72  751  1930-02-26\n",
      "6   DR-3 -47.15 -126.72  752        None\n",
      "7  MSK-4 -48.87 -123.40  837  1932-01-14\n",
      "    name    lat    long   id       dated\n",
      "0   DR-1 -49.85 -128.57  619  1927-02-08\n",
      "1   DR-1 -49.85 -128.57  622  1927-02-10\n",
      "2   DR-1 -49.85 -128.57  844  1932-03-22\n",
      "3   DR-3 -47.15 -126.72  734  1930-01-07\n",
      "4   DR-3 -47.15 -126.72  735  1930-01-12\n",
      "5   DR-3 -47.15 -126.72  751  1930-02-26\n",
      "6   DR-3 -47.15 -126.72  752        None\n",
      "7  MSK-4 -48.87 -123.40  837  1932-01-14\n",
      "    name    lat    long   id       dated\n",
      "0   DR-1 -49.85 -128.57  619  1927-02-08\n",
      "1   DR-1 -49.85 -128.57  622  1927-02-10\n",
      "2   DR-1 -49.85 -128.57  844  1932-03-22\n",
      "3   DR-3 -47.15 -126.72  734  1930-01-07\n",
      "4   DR-3 -47.15 -126.72  735  1930-01-12\n",
      "5   DR-3 -47.15 -126.72  751  1930-02-26\n",
      "6   DR-3 -47.15 -126.72  752        None\n",
      "7  MSK-4 -48.87 -123.40  837  1932-01-14\n"
     ]
    }
   ],
   "source": [
    "dfMerge = pd.merge(dfsite, dfvisited, left_on='name',right_on='site', how='inner').drop('site', axis=1)\n",
    "print(dfMerge)\n",
    "\n",
    "dfMerge = pd.merge(dfsite, dfvisited, left_on='name',right_on='site', how='outer').drop('site', axis=1)\n",
    "print(dfMerge)\n",
    "\n",
    "dfMerge = pd.merge(dfsite, dfvisited, left_on='name',right_on='site', how='left').drop('site', axis=1)\n",
    "print(dfMerge)\n",
    "\n",
    "dfMerge = pd.merge(dfsite, dfvisited, left_on='name',right_on='site', how='right').drop('site', axis=1)\n",
    "print(dfMerge)"
   ]
  },
  {
   "cell_type": "markdown",
   "metadata": {},
   "source": [
    "\n",
    "\n",
    "Titanic\n",
    "\n",
    "1 Leia os dados train.csv usando pandas\n",
    "\n",
    "2 Remova a coluna com nomes de pessoas\n",
    "\n",
    "3 A coluna Cabin contém uma letra e um número. Crie uma nova coluna chamada deck usando apenas a letra de cada registro presente na coluna Cabin.\n",
    "\n",
    "4 Substitua os valores ausentes pela média de valores da coluna\n",
    "\n",
    "5 Os valores da coluna \"embarked\" sao os seguintes: C = Cherbourg, Q = Queenstown, S = Southampton\n",
    "\n",
    "6 Crie um CSV com essas uma coluna nome_cidade_de_embarque: C = Cherbourg, Q = Queenstown, S = Southampton e mais uma coluna chamada população com valores hipotéticos, faça um merge entre o CSV train.csv e esse novo CSV com os nomes das cidades. Implemente um filtro de passageiros por população da cidade de embarque\n"
   ]
  },
  {
   "cell_type": "code",
   "execution_count": 10,
   "metadata": {},
   "outputs": [
    {
     "name": "stdout",
     "output_type": "stream",
     "text": [
      "     PassengerId  Survived  Pclass  \\\n",
      "0              1         0       3   \n",
      "1              2         1       1   \n",
      "2              3         1       3   \n",
      "3              4         1       1   \n",
      "4              5         0       3   \n",
      "..           ...       ...     ...   \n",
      "886          887         0       2   \n",
      "887          888         1       1   \n",
      "888          889         0       3   \n",
      "889          890         1       1   \n",
      "890          891         0       3   \n",
      "\n",
      "                                                  Name     Sex   Age  SibSp  \\\n",
      "0                              Braund, Mr. Owen Harris    male  22.0      1   \n",
      "1    Cumings, Mrs. John Bradley (Florence Briggs Th...  female  38.0      1   \n",
      "2                               Heikkinen, Miss. Laina  female  26.0      0   \n",
      "3         Futrelle, Mrs. Jacques Heath (Lily May Peel)  female  35.0      1   \n",
      "4                             Allen, Mr. William Henry    male  35.0      0   \n",
      "..                                                 ...     ...   ...    ...   \n",
      "886                              Montvila, Rev. Juozas    male  27.0      0   \n",
      "887                       Graham, Miss. Margaret Edith  female  19.0      0   \n",
      "888           Johnston, Miss. Catherine Helen \"Carrie\"  female   NaN      1   \n",
      "889                              Behr, Mr. Karl Howell    male  26.0      0   \n",
      "890                                Dooley, Mr. Patrick    male  32.0      0   \n",
      "\n",
      "     Parch            Ticket     Fare Cabin Embarked  \n",
      "0        0         A/5 21171   7.2500   NaN        S  \n",
      "1        0          PC 17599  71.2833   C85        C  \n",
      "2        0  STON/O2. 3101282   7.9250   NaN        S  \n",
      "3        0            113803  53.1000  C123        S  \n",
      "4        0            373450   8.0500   NaN        S  \n",
      "..     ...               ...      ...   ...      ...  \n",
      "886      0            211536  13.0000   NaN        S  \n",
      "887      0            112053  30.0000   B42        S  \n",
      "888      2        W./C. 6607  23.4500   NaN        S  \n",
      "889      0            111369  30.0000  C148        C  \n",
      "890      0            370376   7.7500   NaN        Q  \n",
      "\n",
      "[891 rows x 12 columns]\n"
     ]
    }
   ],
   "source": [
    "###EXERCICIO TITANIC\n",
    "#1\n",
    "#fromcsv = pd.read_csv('/home/fernando/github/ResidenciaIA_Senai/aula_sql/train.csv')\n",
    "fromcsv = pd.read_csv('/Users/naka/Documents/GitHub/ResidenciaIA_Senai/aula_sql/train.csv')\n",
    "#2\n",
    "fromcsv.head().drop('Name', axis = 1)\n",
    "print(fromcsv)\n",
    "\n",
    "\n",
    "\n"
   ]
  },
  {
   "cell_type": "code",
   "execution_count": 11,
   "metadata": {},
   "outputs": [
    {
     "name": "stdout",
     "output_type": "stream",
     "text": [
      "     PassengerId  Survived  Pclass  \\\n",
      "0              1         0       3   \n",
      "1              2         1       1   \n",
      "2              3         1       3   \n",
      "3              4         1       1   \n",
      "4              5         0       3   \n",
      "..           ...       ...     ...   \n",
      "886          887         0       2   \n",
      "887          888         1       1   \n",
      "888          889         0       3   \n",
      "889          890         1       1   \n",
      "890          891         0       3   \n",
      "\n",
      "                                                  Name     Sex   Age  SibSp  \\\n",
      "0                              Braund, Mr. Owen Harris    male  22.0      1   \n",
      "1    Cumings, Mrs. John Bradley (Florence Briggs Th...  female  38.0      1   \n",
      "2                               Heikkinen, Miss. Laina  female  26.0      0   \n",
      "3         Futrelle, Mrs. Jacques Heath (Lily May Peel)  female  35.0      1   \n",
      "4                             Allen, Mr. William Henry    male  35.0      0   \n",
      "..                                                 ...     ...   ...    ...   \n",
      "886                              Montvila, Rev. Juozas    male  27.0      0   \n",
      "887                       Graham, Miss. Margaret Edith  female  19.0      0   \n",
      "888           Johnston, Miss. Catherine Helen \"Carrie\"  female   NaN      1   \n",
      "889                              Behr, Mr. Karl Howell    male  26.0      0   \n",
      "890                                Dooley, Mr. Patrick    male  32.0      0   \n",
      "\n",
      "     Parch            Ticket     Fare Cabin Embarked Deck  \n",
      "0        0         A/5 21171   7.2500   NaN        S    n  \n",
      "1        0          PC 17599  71.2833   C85        C    C  \n",
      "2        0  STON/O2. 3101282   7.9250   NaN        S    n  \n",
      "3        0            113803  53.1000  C123        S    C  \n",
      "4        0            373450   8.0500   NaN        S    n  \n",
      "..     ...               ...      ...   ...      ...  ...  \n",
      "886      0            211536  13.0000   NaN        S    n  \n",
      "887      0            112053  30.0000   B42        S    B  \n",
      "888      2        W./C. 6607  23.4500   NaN        S    n  \n",
      "889      0            111369  30.0000  C148        C    C  \n",
      "890      0            370376   7.7500   NaN        Q    n  \n",
      "\n",
      "[891 rows x 13 columns]\n"
     ]
    }
   ],
   "source": [
    "\n",
    "#3\n",
    "deck = fromcsv['Cabin']\n",
    "deck = deck.astype(str).str[0]\n",
    "#print(deck)\n",
    "fromcsv['Deck'] = deck\n",
    "print(fromcsv)"
   ]
  },
  {
   "cell_type": "code",
   "execution_count": 27,
   "metadata": {},
   "outputs": [
    {
     "name": "stdout",
     "output_type": "stream",
     "text": [
      "29.69911764705882\n",
      "     PassengerId  Survived  Pclass  \\\n",
      "0              1         0       3   \n",
      "1              2         1       1   \n",
      "2              3         1       3   \n",
      "3              4         1       1   \n",
      "4              5         0       3   \n",
      "..           ...       ...     ...   \n",
      "886          887         0       2   \n",
      "887          888         1       1   \n",
      "888          889         0       3   \n",
      "889          890         1       1   \n",
      "890          891         0       3   \n",
      "\n",
      "                                                  Name     Sex        Age  \\\n",
      "0                              Braund, Mr. Owen Harris    male  22.000000   \n",
      "1    Cumings, Mrs. John Bradley (Florence Briggs Th...  female  38.000000   \n",
      "2                               Heikkinen, Miss. Laina  female  26.000000   \n",
      "3         Futrelle, Mrs. Jacques Heath (Lily May Peel)  female  35.000000   \n",
      "4                             Allen, Mr. William Henry    male  35.000000   \n",
      "..                                                 ...     ...        ...   \n",
      "886                              Montvila, Rev. Juozas    male  27.000000   \n",
      "887                       Graham, Miss. Margaret Edith  female  19.000000   \n",
      "888           Johnston, Miss. Catherine Helen \"Carrie\"  female  29.699118   \n",
      "889                              Behr, Mr. Karl Howell    male  26.000000   \n",
      "890                                Dooley, Mr. Patrick    male  32.000000   \n",
      "\n",
      "     SibSp  Parch            Ticket     Fare Cabin Embarked Deck  \n",
      "0        1      0         A/5 21171   7.2500   NaN        S    n  \n",
      "1        1      0          PC 17599  71.2833   C85        C    C  \n",
      "2        0      0  STON/O2. 3101282   7.9250   NaN        S    n  \n",
      "3        1      0            113803  53.1000  C123        S    C  \n",
      "4        0      0            373450   8.0500   NaN        S    n  \n",
      "..     ...    ...               ...      ...   ...      ...  ...  \n",
      "886      0      0            211536  13.0000   NaN        S    n  \n",
      "887      0      0            112053  30.0000   B42        S    B  \n",
      "888      1      2        W./C. 6607  23.4500   NaN        S    n  \n",
      "889      0      0            111369  30.0000  C148        C    C  \n",
      "890      0      0            370376   7.7500   NaN        Q    n  \n",
      "\n",
      "[891 rows x 13 columns]\n"
     ]
    }
   ],
   "source": [
    "#4\n",
    "import numpy as np\n",
    "\n",
    "age = fromcsv['Age']\n",
    "#age = pd.Series([1,2,3,np.nan,4])\n",
    "age_mean = age.mean()\n",
    "print(age_mean)\n",
    "values = {'Age': age_mean}\n",
    "fromcsv = fromcsv.fillna(value = values)\n",
    "print(fromcsv)"
   ]
  },
  {
   "cell_type": "code",
   "execution_count": 30,
   "metadata": {},
   "outputs": [
    {
     "name": "stdout",
     "output_type": "stream",
     "text": [
      "  nome_cidade_embarque   populacao\n",
      "0            Cherbourg       55000\n",
      "1           Queenstown     1345660\n",
      "2          Southampton      300000\n"
     ]
    }
   ],
   "source": [
    "#5\n",
    "#C = Cherbourg, Q = Queenstown, S = Southampton - nome_cidade_embarque\n",
    "cidades_csv = pd.read_csv('/Users/naka/Documents/GitHub/ResidenciaIA_Senai/aula_sql/cidades.csv')\n",
    "print(cidades_csv)\n",
    "            "
   ]
  },
  {
   "cell_type": "code",
   "execution_count": null,
   "metadata": {},
   "outputs": [],
   "source": []
  },
  {
   "cell_type": "code",
   "execution_count": null,
   "metadata": {},
   "outputs": [],
   "source": [
    "            "
   ]
  }
 ],
 "metadata": {
  "kernelspec": {
   "display_name": "Python 3",
   "language": "python",
   "name": "python3"
  },
  "language_info": {
   "codemirror_mode": {
    "name": "ipython",
    "version": 3
   },
   "file_extension": ".py",
   "mimetype": "text/x-python",
   "name": "python",
   "nbconvert_exporter": "python",
   "pygments_lexer": "ipython3",
   "version": "3.7.4"
  }
 },
 "nbformat": 4,
 "nbformat_minor": 4
}
