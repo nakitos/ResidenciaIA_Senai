{
 "cells": [
  {
   "cell_type": "markdown",
   "metadata": {},
   "source": [
    "sqlite3 survey.db"
   ]
  },
  {
   "cell_type": "code",
   "execution_count": 2,
   "metadata": {},
   "outputs": [],
   "source": [
    "import sqlite3\n",
    "import pandas as pd\n",
    "\n",
    "conexao = sqlite3.connect('/home/fernando/github/python-datascience/survey.db')\n"
   ]
  },
  {
   "cell_type": "code",
   "execution_count": 11,
   "metadata": {},
   "outputs": [
    {
     "name": "stdout",
     "output_type": "stream",
     "text": [
      "<class 'pandas.core.frame.DataFrame'>\n",
      "RangeIndex: 5 entries, 0 to 4\n",
      "Data columns (total 3 columns):\n",
      " #   Column    Non-Null Count  Dtype \n",
      "---  ------    --------------  ----- \n",
      " 0   id        5 non-null      object\n",
      " 1   personal  5 non-null      object\n",
      " 2   family    5 non-null      object\n",
      "dtypes: object(3)\n",
      "memory usage: 248.0+ bytes\n",
      "         id   personal    family\n",
      "0      dyer    William      Dyer\n",
      "1        pb      Frank   Pabodie\n",
      "2      lake   Anderson      Lake\n",
      "3       roe  Valentina   Roerich\n",
      "4  danforth      Frank  Danforth\n"
     ]
    }
   ],
   "source": [
    "pessoa = pd.read_sql_query(\"SELECT * FROM person\", conexao)\n",
    "pessoa.info()\n",
    "pessoa.describe()\n",
    "print(pessoa)"
   ]
  },
  {
   "cell_type": "code",
   "execution_count": 13,
   "metadata": {},
   "outputs": [
    {
     "name": "stdout",
     "output_type": "stream",
     "text": [
      "             lat        long\n",
      "count   3.000000    3.000000\n",
      "mean  -48.623333 -126.230000\n",
      "std     1.366797    2.619599\n",
      "min   -49.850000 -128.570000\n",
      "25%   -49.360000 -127.645000\n",
      "50%   -48.870000 -126.720000\n",
      "75%   -48.010000 -125.060000\n",
      "max   -47.150000 -123.400000\n",
      "    name    lat    long\n",
      "0   DR-1 -49.85 -128.57\n",
      "1   DR-3 -47.15 -126.72\n",
      "2  MSK-4 -48.87 -123.40\n"
     ]
    }
   ],
   "source": [
    "\n",
    "\n",
    "dfsite = pd.read_sql_query(\"SELECT * FROM Site\", conexao)\n",
    "print(dfsite.describe())\n",
    "print(dfsite)\n",
    "\n"
   ]
  },
  {
   "cell_type": "code",
   "execution_count": 15,
   "metadata": {},
   "outputs": [
    {
     "name": "stdout",
     "output_type": "stream",
     "text": [
      "   max(id)\n",
      "0      844\n",
      "844\n"
     ]
    }
   ],
   "source": [
    "dfvisited=pd.read_sql_query(\"SELECT max(id) FROM Visited;\", conexao)\n",
    "print(dfvisited)\n",
    "\n",
    "dfvisited=pd.read_sql_query(\"SELECT * FROM Visited;\", conexao)\n",
    "print(dfvisited['id'].max())\n"
   ]
  },
  {
   "cell_type": "code",
   "execution_count": 4,
   "metadata": {},
   "outputs": [
    {
     "name": "stdout",
     "output_type": "stream",
     "text": [
      "     family   personal\n",
      "0      Dyer    William\n",
      "1   Pabodie      Frank\n",
      "2      Lake   Anderson\n",
      "3   Roerich  Valentina\n",
      "4  Danforth      Frank\n",
      "    taken person quant  reading\n",
      "0     619   dyer   rad     9.82\n",
      "1     619   dyer   sal     0.13\n",
      "2     622   dyer   rad     7.80\n",
      "3     622   dyer   sal     0.09\n",
      "4     734     pb   rad     8.41\n",
      "5     734   lake   sal     0.05\n",
      "6     734     pb  temp   -21.50\n",
      "7     735     pb   rad     7.22\n",
      "8     735   None   sal     0.06\n",
      "9     735   None  temp   -26.00\n",
      "10    751     pb   rad     4.35\n",
      "11    751     pb  temp   -18.50\n",
      "12    751   lake   sal     0.10\n",
      "13    752   lake   rad     2.19\n",
      "14    752   lake   sal     0.09\n",
      "15    752   lake  temp   -16.00\n",
      "16    752    roe   sal    41.60\n",
      "17    837   lake   rad     1.46\n",
      "18    837   lake   sal     0.21\n",
      "19    837    roe   sal    22.50\n",
      "20    844    roe   rad    11.25\n",
      "0        Dyer\n",
      "1     Pabodie\n",
      "2        Lake\n",
      "3     Roerich\n",
      "4    Danforth\n",
      "Name: family, dtype: object\n"
     ]
    }
   ],
   "source": [
    "# Selecionando colunas\n",
    "\n",
    "dfPerson = pd.read_sql_query(\"SELECT family, personal FROM Person;\", conexao)\n",
    "print(dfPerson)\n",
    "dfSurvey = pd.read_sql_query(\"SELECT * FROM Survey;\", conexao)\n",
    "print(dfSurvey)\n",
    "print(dfPerson['family'])"
   ]
  },
  {
   "cell_type": "code",
   "execution_count": 6,
   "metadata": {},
   "outputs": [
    {
     "name": "stdout",
     "output_type": "stream",
     "text": [
      "   quant\n",
      "0    rad\n",
      "1    sal\n",
      "2    rad\n",
      "3    sal\n",
      "4    rad\n",
      "5    sal\n",
      "6   temp\n",
      "7    rad\n",
      "8    sal\n",
      "9   temp\n",
      "10   rad\n",
      "11  temp\n",
      "12   sal\n",
      "13   rad\n",
      "14   sal\n",
      "15  temp\n",
      "16   sal\n",
      "17   rad\n",
      "18   sal\n",
      "19   sal\n",
      "20   rad\n"
     ]
    }
   ],
   "source": [
    "dfSurvey = pd.read_sql_query(\"SELECT quant FROM Survey\", conexao)\n",
    "print(dfSurvey)"
   ]
  },
  {
   "cell_type": "code",
   "execution_count": 8,
   "metadata": {},
   "outputs": [
    {
     "name": "stdout",
     "output_type": "stream",
     "text": [
      "  quant\n",
      "0   rad\n",
      "1   sal\n",
      "2  temp\n",
      "0      rad\n",
      "1      sal\n",
      "2      rad\n",
      "3      sal\n",
      "4      rad\n",
      "5      sal\n",
      "6     temp\n",
      "7      rad\n",
      "8      sal\n",
      "9     temp\n",
      "10     rad\n",
      "11    temp\n",
      "12     sal\n",
      "13     rad\n",
      "14     sal\n",
      "15    temp\n",
      "16     sal\n",
      "17     rad\n",
      "18     sal\n",
      "19     sal\n",
      "20     rad\n",
      "Name: quant, dtype: object\n",
      "['rad' 'sal' 'temp']\n"
     ]
    }
   ],
   "source": [
    "#distinct - opção para remover registros com valores repetidos de uma coluna específica\n",
    "dfSurvey = pd.read_sql_query(\"SELECT DISTINCT quant FROM Survey;\", conexao)\n",
    "print(dfSurvey)\n",
    "\n",
    "dfSurvey = pd.read_sql_query(\"SELECT * FROM Survey;\", conexao)\n",
    "print(dfSurvey['quant'])\n",
    "print(dfSurvey['quant'].unique())"
   ]
  },
  {
   "cell_type": "code",
   "execution_count": 10,
   "metadata": {},
   "outputs": [
    {
     "name": "stdout",
     "output_type": "stream",
     "text": [
      "    taken quant\n",
      "0     619   rad\n",
      "1     619   sal\n",
      "2     622   rad\n",
      "3     622   sal\n",
      "4     734   rad\n",
      "5     734   sal\n",
      "6     734  temp\n",
      "7     735   rad\n",
      "8     735   sal\n",
      "9     735  temp\n",
      "10    751   rad\n",
      "11    751  temp\n",
      "12    751   sal\n",
      "13    752   rad\n",
      "14    752   sal\n",
      "15    752  temp\n",
      "16    837   rad\n",
      "17    837   sal\n",
      "18    844   rad\n"
     ]
    }
   ],
   "source": [
    "dfSurvey = pd.read_sql_query(\"SELECT DISTINCT taken, quant FROM Survey;\", conexao)\n",
    "print(dfSurvey)"
   ]
  },
  {
   "cell_type": "code",
   "execution_count": 12,
   "metadata": {},
   "outputs": [
    {
     "name": "stdout",
     "output_type": "stream",
     "text": [
      "         id   personal    family\n",
      "0  danforth      Frank  Danforth\n",
      "1      dyer    William      Dyer\n",
      "2      lake   Anderson      Lake\n",
      "3        pb      Frank   Pabodie\n",
      "4       roe  Valentina   Roerich\n"
     ]
    }
   ],
   "source": [
    "#ordenando\n",
    "dfPerson = pd.read_sql_query(\"SELECT * FROM person ORDER BY id  ASC;\", conexao)\n",
    "print(dfPerson)"
   ]
  },
  {
   "cell_type": "code",
   "execution_count": 14,
   "metadata": {},
   "outputs": [
    {
     "name": "stdout",
     "output_type": "stream",
     "text": [
      "         id   personal    family\n",
      "0      dyer    William      Dyer\n",
      "1        pb      Frank   Pabodie\n",
      "2      lake   Anderson      Lake\n",
      "3       roe  Valentina   Roerich\n",
      "4  danforth      Frank  Danforth\n",
      "         id   personal    family\n",
      "4  danforth      Frank  Danforth\n",
      "0      dyer    William      Dyer\n",
      "2      lake   Anderson      Lake\n",
      "1        pb      Frank   Pabodie\n",
      "3       roe  Valentina   Roerich\n"
     ]
    }
   ],
   "source": [
    "#ordenando com Pandas\n",
    "dfPerson = pd.read_sql_query(\"SELECT * FROM person\", conexao)\n",
    "print(dfPerson)\n",
    "print(dfPerson.sort_values(by=['id']))"
   ]
  },
  {
   "cell_type": "code",
   "execution_count": null,
   "metadata": {},
   "outputs": [],
   "source": []
  },
  {
   "cell_type": "code",
   "execution_count": null,
   "metadata": {},
   "outputs": [],
   "source": []
  },
  {
   "cell_type": "code",
   "execution_count": null,
   "metadata": {},
   "outputs": [],
   "source": []
  }
 ],
 "metadata": {
  "kernelspec": {
   "display_name": "Python 3",
   "language": "python",
   "name": "python3"
  },
  "language_info": {
   "codemirror_mode": {
    "name": "ipython",
    "version": 3
   },
   "file_extension": ".py",
   "mimetype": "text/x-python",
   "name": "python",
   "nbconvert_exporter": "python",
   "pygments_lexer": "ipython3",
   "version": "3.8.1"
  }
 },
 "nbformat": 4,
 "nbformat_minor": 4
}
